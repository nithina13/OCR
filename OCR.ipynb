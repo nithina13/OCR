{
 "cells": [
  {
   "cell_type": "markdown",
   "metadata": {},
   "source": [
    "# Optical Character Recognition (Using Tesseract)"
   ]
  },
  {
   "cell_type": "code",
   "execution_count": 4,
   "metadata": {},
   "outputs": [],
   "source": [
    "import os;\n",
    "from PIL import Image\n",
    "import pytesseract\n",
    "from pytesseract import Output\n",
    "import cv2\n",
    "\n",
    "# need this line in order for tesseract to work (change path to where your tesseract.exe is)\n",
    "pytesseract.pytesseract.tesseract_cmd = r'C:\\Users\\Nithin\\AppData\\Local\\Programs\\Tesseract-OCR\\tesseract.exe'"
   ]
  },
  {
   "cell_type": "code",
   "execution_count": 13,
   "metadata": {},
   "outputs": [
    {
     "name": "stdout",
     "output_type": "stream",
     "text": [
      " \n",
      "\n",
      "Sushi Q\n",
      "\n",
      "EDEN IMPRESSION SDN BHD\n",
      "(894996-D)\n",
      "\n",
      "Lot NO : 20, Level UG1, Publika Solaris\n",
      "Dutamas.\n",
      "No 1, Jalan Dutamas, 50480 KL\n",
      "Tel: 03-62062378\n",
      "(GST ID: 000926818304)\n",
      "\n",
      "Tax Invoice\n",
      "\n",
      "Date: 20/10/2016 Time: 3:08:19PM\n",
      "INV No: 388171\n",
      "\n",
      "Table: -Take Away\n",
      "\n",
      "Counter: C1 Pax: 1\n",
      "\n",
      "Staff: NG XIN YEE\n",
      "\n",
      "Description r\n",
      "Unit Price Unit Discount Amount Cod\n",
      "ALACARTE SUSHI 2.80\n",
      "RM 2.80 2 0.00 RM5.60 SR\n",
      "ALACARTE SUSHI 1.80\n",
      "RM 1.80 2 0.00 RM3.60 SR\n",
      "Qty: 4 Total Excl GST RM9.20\n",
      "Discount: RMO.00\n",
      "After Discount: RM9.20\n",
      "Service Charge (Excl GST): RMO.00\n",
      "GST: RMO.55\n",
      "Item Value Adj: RMO.00\n",
      "Total Sales: RM9.75\n",
      "\n",
      "Tendered: RM10.00\n",
      "Change : RMO.25\n",
      "\n",
      "GST Summary Excl Amount(RM)\n",
      "\n",
      " \n",
      "\n",
      "SR = 6%\n",
      "\n",
      "*Settled at 20/10/2016 3:08:19 PM*\n",
      "THANK YOU AND PLEASE COME AGAIN\n",
      "\n",
      ":\n",
      "\n",
      " \n",
      "\n",
      " \n",
      "\f",
      "\n"
     ]
    }
   ],
   "source": [
    "# construcing path to train directory (change this path to where ever test directory is)\n",
    "directory = \"C://Users//Nithin//OneDrive//Desktop//MLWORK//train\"\n",
    "temp = 0;\n",
    "\n",
    "for folder in os.listdir(directory):\n",
    "    # iterating through each folder\n",
    "    directory2 = directory + \"//\" + folder\n",
    "    \n",
    "    # accessing the jpeg in each folder\n",
    "    for file in os.listdir(directory2):\n",
    "        f = directory2 + \"//\" + file\n",
    "        # accessing only jpg files\n",
    "        if file.endswith('.jpg'):\n",
    "            # preprocessing the image\n",
    "            image = cv2.imread(f, 0)\n",
    "            thresh = cv2.threshold(image, 0, 255, cv2.THRESH_OTSU + cv2.THRESH_BINARY_INV)[1]\n",
    "            blur = cv2.GaussianBlur(thresh, (3, 3), 0)\n",
    "            result = 255 - blur\n",
    "            \n",
    "            extracted_text = pytesseract.image_to_string(result)\n",
    "            print(extracted_text)\n",
    "    temp+=1\n",
    "    if temp == 1:\n",
    "        break"
   ]
  },
  {
   "cell_type": "code",
   "execution_count": null,
   "metadata": {},
   "outputs": [],
   "source": []
  }
 ],
 "metadata": {
  "kernelspec": {
   "display_name": "Python 3",
   "language": "python",
   "name": "python3"
  },
  "language_info": {
   "codemirror_mode": {
    "name": "ipython",
    "version": 3
   },
   "file_extension": ".py",
   "mimetype": "text/x-python",
   "name": "python",
   "nbconvert_exporter": "python",
   "pygments_lexer": "ipython3",
   "version": "3.7.4"
  }
 },
 "nbformat": 4,
 "nbformat_minor": 2
}
